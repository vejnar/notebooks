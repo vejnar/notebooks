{
 "cells": [
  {
   "cell_type": "markdown",
   "id": "8a8b9dc1",
   "metadata": {},
   "source": [
    "\n",
    "# Gene differential expression with DESeq2 from Python\n",
    "\n",
    "Author: Charles E. Vejnar (charles.vejnar@gmail.com)\n",
    "\n",
    "**Requirements**\n",
    "\n",
    "* Python with [Matplotlib](https://matplotlib.org)\n",
    "* Download gene expression data [dev_timecourse_zebrafish_vejnar_giraldez_count_900_gene_protein_coding_v11.csv.xz](https://data.giraldezlab.org/pub/vejnar_et_al_2019_genome_research/dev_timecourse_gene_count/dev_timecourse_zebrafish_vejnar_giraldez_count_900_gene_protein_coding_v11.csv.xz). More samples are [available](https://www.giraldezlab.org/data/vejnar_et_al_2019_genome_research/).\n",
    "\n",
    "Please cite relevant papers if you use this tutorial and/or data:\n",
    "* [Genome wide analysis of 3' UTR sequence elements and proteins regulating mRNA stability during maternal-to-zygotic transition in zebrafish](https://pubmed.ncbi.nlm.nih.gov/31227602/) Vejnar et al, 2019\n",
    "* [Moderated estimation of fold change and dispersion for RNA-seq data with DESeq2](https://pubmed.ncbi.nlm.nih.gov/25516281/) Love et al, 2014\n"
   ]
  },
  {
   "cell_type": "code",
   "execution_count": 1,
   "id": "47c4c4cf",
   "metadata": {
    "execution": {
     "iopub.execute_input": "2022-06-10T16:49:16.414975Z",
     "iopub.status.busy": "2022-06-10T16:49:16.414279Z",
     "iopub.status.idle": "2022-06-10T16:49:16.423128Z",
     "shell.execute_reply": "2022-06-10T16:49:16.422564Z"
    }
   },
   "outputs": [],
   "source": [
    "import subprocess"
   ]
  },
  {
   "cell_type": "code",
   "execution_count": 2,
   "id": "1a8556ee",
   "metadata": {
    "execution": {
     "iopub.execute_input": "2022-06-10T16:49:16.426883Z",
     "iopub.status.busy": "2022-06-10T16:49:16.426625Z",
     "iopub.status.idle": "2022-06-10T16:49:16.429588Z",
     "shell.execute_reply": "2022-06-10T16:49:16.429050Z"
    }
   },
   "outputs": [],
   "source": [
    "import numpy as np\n",
    "import pandas as pd"
   ]
  },
  {
   "cell_type": "code",
   "execution_count": 3,
   "id": "ceb8011b",
   "metadata": {
    "execution": {
     "iopub.execute_input": "2022-06-10T16:49:16.433010Z",
     "iopub.status.busy": "2022-06-10T16:49:16.432764Z",
     "iopub.status.idle": "2022-06-10T16:49:16.436623Z",
     "shell.execute_reply": "2022-06-10T16:49:16.436076Z"
    }
   },
   "outputs": [],
   "source": [
    "# Path to gene count\n",
    "path_count = 'dev_timecourse_zebrafish_vejnar_giraldez_count_900_gene_protein_coding_v11.csv.xz'\n",
    "# Minimum read count per condition\n",
    "min_count = 1\n",
    "# Method for adjusting P-values\n",
    "p_adjust = 'fdr'\n",
    "# Column separator\n",
    "col_sep = ' '\n",
    "# Define DE tests\n",
    "tests = [{'name': 'WT shield vs a-Am',\n",
    "          'samples1': ['WT shield pA B1', 'WT shield pA B2'],\n",
    "          'samples2': ['WT a-Am shield pA B1', 'WT a-Am shield pA B2']}]"
   ]
  },
  {
   "cell_type": "code",
   "execution_count": 4,
   "id": "41113065",
   "metadata": {
    "execution": {
     "iopub.execute_input": "2022-06-10T16:49:16.440204Z",
     "iopub.status.busy": "2022-06-10T16:49:16.439704Z",
     "iopub.status.idle": "2022-06-10T16:49:16.970823Z",
     "shell.execute_reply": "2022-06-10T16:49:16.970279Z"
    }
   },
   "outputs": [],
   "source": [
    "# Open main time-course\n",
    "dcount = pd.read_csv(path_count, index_col=0)\n",
    "# Keep only zebrafish\n",
    "dcount.drop([i for i in dcount.index if not i.startswith('ENSDAR')], inplace=True)"
   ]
  },
  {
   "cell_type": "code",
   "execution_count": 5,
   "id": "e0c1bd38",
   "metadata": {
    "execution": {
     "iopub.execute_input": "2022-06-10T16:49:16.974521Z",
     "iopub.status.busy": "2022-06-10T16:49:16.974378Z",
     "iopub.status.idle": "2022-06-10T16:49:25.885707Z",
     "shell.execute_reply": "2022-06-10T16:49:25.885232Z"
    }
   },
   "outputs": [
    {
     "name": "stderr",
     "output_type": "stream",
     "text": [
      "Loading required package: S4Vectors\n",
      "Loading required package: stats4\n",
      "Loading required package: BiocGenerics\n",
      "\n",
      "Attaching package: ‘BiocGenerics’\n",
      "\n",
      "The following objects are masked from ‘package:stats’:\n",
      "\n",
      "    IQR, mad, sd, var, xtabs\n",
      "\n",
      "The following objects are masked from ‘package:base’:\n",
      "\n",
      "    anyDuplicated, append, as.data.frame, basename, cbind, colnames,\n",
      "    dirname, do.call, duplicated, eval, evalq, Filter, Find, get, grep,\n",
      "    grepl, intersect, is.unsorted, lapply, Map, mapply, match, mget,\n",
      "    order, paste, pmax, pmax.int, pmin, pmin.int, Position, rank,\n",
      "    rbind, Reduce, rownames, sapply, setdiff, sort, table, tapply,\n",
      "    union, unique, unsplit, which.max, which.min\n",
      "\n"
     ]
    },
    {
     "name": "stderr",
     "output_type": "stream",
     "text": [
      "\n",
      "Attaching package: ‘S4Vectors’\n",
      "\n",
      "The following objects are masked from ‘package:base’:\n",
      "\n",
      "    expand.grid, I, unname\n",
      "\n",
      "Loading required package: IRanges\n"
     ]
    },
    {
     "name": "stderr",
     "output_type": "stream",
     "text": [
      "Loading required package: GenomicRanges\n",
      "Loading required package: GenomeInfoDb\n"
     ]
    },
    {
     "name": "stderr",
     "output_type": "stream",
     "text": [
      "Loading required package: SummarizedExperiment\n",
      "Loading required package: MatrixGenerics\n",
      "Loading required package: matrixStats\n",
      "\n",
      "Attaching package: ‘MatrixGenerics’\n",
      "\n",
      "The following objects are masked from ‘package:matrixStats’:\n",
      "\n",
      "    colAlls, colAnyNAs, colAnys, colAvgsPerRowSet, colCollapse,\n",
      "    colCounts, colCummaxs, colCummins, colCumprods, colCumsums,\n",
      "    colDiffs, colIQRDiffs, colIQRs, colLogSumExps, colMadDiffs,\n",
      "    colMads, colMaxs, colMeans2, colMedians, colMins, colOrderStats,\n",
      "    colProds, colQuantiles, colRanges, colRanks, colSdDiffs, colSds,\n",
      "    colSums2, colTabulates, colVarDiffs, colVars, colWeightedMads,\n",
      "    colWeightedMeans, colWeightedMedians, colWeightedSds,\n",
      "    colWeightedVars, rowAlls, rowAnyNAs, rowAnys, rowAvgsPerColSet,\n",
      "    rowCollapse, rowCounts, rowCummaxs, rowCummins, rowCumprods,\n",
      "    rowCumsums, rowDiffs, rowIQRDiffs, rowIQRs, rowLogSumExps,\n",
      "    rowMadDiffs, rowMads, rowMaxs, rowMeans2, rowMedians, rowMins,\n",
      "    rowOrderStats, rowProds, rowQuantiles, rowRanges, rowRanks,\n",
      "    rowSdDiffs, rowSds, rowSums2, rowTabulates, rowVarDiffs, rowVars,\n",
      "    rowWeightedMads, rowWeightedMeans, rowWeightedMedians,\n",
      "    rowWeightedSds, rowWeightedVars\n",
      "\n",
      "Loading required package: Biobase\n"
     ]
    },
    {
     "name": "stderr",
     "output_type": "stream",
     "text": [
      "Welcome to Bioconductor\n",
      "\n",
      "    Vignettes contain introductory material; view with\n",
      "    'browseVignettes()'. To cite Bioconductor, see\n",
      "    'citation(\"Biobase\")', and for packages 'citation(\"pkgname\")'.\n",
      "\n",
      "\n",
      "Attaching package: ‘Biobase’\n",
      "\n",
      "The following object is masked from ‘package:MatrixGenerics’:\n",
      "\n",
      "    rowMedians\n",
      "\n",
      "The following objects are masked from ‘package:matrixStats’:\n",
      "\n",
      "    anyMissing, rowMedians\n",
      "\n"
     ]
    },
    {
     "name": "stderr",
     "output_type": "stream",
     "text": [
      "converting counts to integer mode\n",
      "Warning message:\n",
      "In DESeqDataSet(se, design = design, ignoreRank) :\n",
      "  some variables in design formula are characters, converting to factors\n"
     ]
    },
    {
     "name": "stderr",
     "output_type": "stream",
     "text": [
      "estimating size factors\n",
      "estimating dispersions\n",
      "gene-wise dispersion estimates\n"
     ]
    },
    {
     "name": "stderr",
     "output_type": "stream",
     "text": [
      "mean-dispersion relationship\n"
     ]
    },
    {
     "name": "stderr",
     "output_type": "stream",
     "text": [
      "final dispersion estimates\n"
     ]
    },
    {
     "name": "stderr",
     "output_type": "stream",
     "text": [
      "fitting model and testing\n"
     ]
    }
   ],
   "source": [
    "de_data = [dcount.loc[:,['gene_name', 'gene_length']]]\n",
    "for test in tests:\n",
    "    # Get samples & Remove total\n",
    "    dcount_cond = dcount.loc[:, test['samples1']+test['samples2']]\n",
    "    # Selection min_count per condition\n",
    "    sel_count = np.all([np.any(dcount_cond.loc[:, test['samples1']] >= min_count, axis=1), np.any(dcount_cond.loc[:, test['samples2']] >= min_count, axis=1)], axis=0)\n",
    "    # Round (DESeq2 requires counts i.e. integers) & Output\n",
    "    dcount_cond.loc[sel_count, :].round().to_csv('count.csv', index=True)\n",
    "\n",
    "    # Conditions\n",
    "    pd.DataFrame([test['samples1']+test['samples2'], ['a']*len(test['samples1']) + ['b']*len(test['samples2'])], index=['', 'condition']).T.to_csv('cond.csv', index=False)\n",
    "\n",
    "    # Run DESeq\n",
    "    subprocess.run(['Rscript','run_deseq.r', 'count.csv', 'cond.csv', 'de.csv', p_adjust], check=True)\n",
    "\n",
    "    # Get results\n",
    "    de = pd.read_csv('de.csv', index_col=0)\n",
    "    de.rename(columns=lambda x: test['name']+col_sep+x, inplace=True)\n",
    "    de_data.append(de)"
   ]
  },
  {
   "cell_type": "code",
   "execution_count": 6,
   "id": "093206a2",
   "metadata": {
    "execution": {
     "iopub.execute_input": "2022-06-10T16:49:25.888141Z",
     "iopub.status.busy": "2022-06-10T16:49:25.887979Z",
     "iopub.status.idle": "2022-06-10T16:49:26.033187Z",
     "shell.execute_reply": "2022-06-10T16:49:26.032593Z"
    }
   },
   "outputs": [],
   "source": [
    "# Merge and save\n",
    "dds = pd.concat(de_data, join='inner', axis=1)\n",
    "dds.to_csv('de.csv')"
   ]
  }
 ],
 "metadata": {
  "jupytext": {
   "cell_metadata_filter": "-all",
   "encoding": "# -*- coding: utf-8 -*-",
   "executable": "/usr/bin/env python3"
  },
  "kernelspec": {
   "display_name": "Python 3 (ipykernel)",
   "language": "python",
   "name": "python3"
  },
  "language_info": {
   "codemirror_mode": {
    "name": "ipython",
    "version": 3
   },
   "file_extension": ".py",
   "mimetype": "text/x-python",
   "name": "python",
   "nbconvert_exporter": "python",
   "pygments_lexer": "ipython3",
   "version": "3.10.5"
  }
 },
 "nbformat": 4,
 "nbformat_minor": 5
}
