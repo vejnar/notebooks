{
 "cells": [
  {
   "cell_type": "markdown",
   "id": "0a377549-0c22-4061-82c8-3b2031cebd77",
   "metadata": {},
   "source": [
    "# Multi-frame Ribo-seq and mRNA-seq visualization\n",
    "\n",
    "Author: Charles E. Vejnar (charles.vejnar@gmail.com) (Original plot design from [Timothy Johnstone](https://github.com/tgjohnst))\n",
    "\n",
    "This notebook demonstrates how to plot Ribo-seq and mRNA-seq transcript profiles represented as read-coverage. To visualize how much each Open Reading Frame (ORF) is translated, ribosome protected fragments (RPFs) are colored differently for each ORF frame.\n",
    "\n",
    "All genomic profiles were created with [GeneAbacus](https://github.com/vejnar/geneabacus).\n",
    "\n",
    "**Requirements**\n",
    "\n",
    "* Python with [Matplotlib](https://matplotlib.org) and [Zstandard](https://pypi.org/project/zstandard).\n",
    "* Install [GeneAbacus-Python](https://github.com/vejnar/geneabacus-python). Using *pip*:\n",
    "    ```\n",
    "    pip3 install geneabacus\n",
    "    ```\n",
    "* Download genomic profiles from Giraldez Lab at https://www.giraldezlab.org/data/ribosome_profiling (profile [*binary*](https://github.com/vejnar/geneabacus#profile-binary-format) format)\n",
    "    * Ribo-seq and mRNA-seq genomic profiles \n",
    "    * Plus and minus strands\n",
    "\n",
    "    For this tutorial, to plot data at 12 hpf, download the following files:\n",
    "    ```\n",
    "    rpf_12h_genome_plus_profiles_grcz11_v9.bin.lz4\n",
    "    rpf_12h_genome_minus_profiles_grcz11_v9.bin.lz4\n",
    "    mrna_r0_12h_genome_plus_profiles_grcz11_v9.bin.lz4\n",
    "    mrna_r0_12h_genome_minus_profiles_grcz11_v9.bin.lz4\n",
    "    ```\n",
    "* Download FON gene annotation files at https://data.giraldezlab.org/pub/annots. FON files are created using [FONtools](https://github.com/vejnar/fontools).\n",
    "    * For ENSEMBl 104, download [danrer_cdna_all_ensembl104.fon1.json.zst](https://data.giraldezlab.org/pub/annots/danrer_cdna_all_ensembl104.fon1.json.zst)\n",
    "* Download tabulated with chromosome lengths\n",
    "    * For zebrafish *GRCz11*, download [danrer_genome_all_ensembl_grcz11_chrom_length.tab](https://data.giraldezlab.org/pub/annots/danrer_genome_all_ensembl_grcz11_chrom_length.tab)\n",
    "\n",
    "**Please cite relevant [papers](https://www.giraldezlab.org/data/ribosome_profiling) if you use this tutorial and/or data.**"
   ]
  },
  {
   "cell_type": "code",
   "execution_count": 1,
   "id": "23a53ba5-d7f4-4b4d-99ab-9873e8bbfb40",
   "metadata": {},
   "outputs": [],
   "source": [
    "%matplotlib inline"
   ]
  },
  {
   "cell_type": "code",
   "execution_count": 2,
   "id": "48c3764b-c34c-4bbd-a029-2d3efcafb9d6",
   "metadata": {},
   "outputs": [],
   "source": [
    "import os\n",
    "import json\n",
    "\n",
    "import matplotlib as mpl\n",
    "import matplotlib.pyplot as plt\n",
    "import numpy as np\n",
    "import zstandard as zstd"
   ]
  },
  {
   "cell_type": "markdown",
   "id": "f1223cbf-911e-40bb-a680-56c2c7742ecc",
   "metadata": {},
   "source": [
    "# Import module to read genomic profiles"
   ]
  },
  {
   "cell_type": "code",
   "execution_count": 3,
   "id": "5e9a4b77-a564-44d8-b99a-6a10979542d1",
   "metadata": {},
   "outputs": [],
   "source": [
    "import geneabacus.profileio"
   ]
  },
  {
   "cell_type": "markdown",
   "id": "5c8c63db-8d5d-41c9-b709-ccb85b53e5ea",
   "metadata": {},
   "source": [
    "## Define function to find all open reading frames (ORFs)"
   ]
  },
  {
   "cell_type": "code",
   "execution_count": 4,
   "id": "3eaeef93-c39b-40f9-831b-89ac1714d188",
   "metadata": {},
   "outputs": [],
   "source": [
    "def get_orfs(seq, start_codons=['ATG', 'AUG'], stop_codons=['TAA', 'UAA', 'TAG', 'UAG', 'TGA', 'UGA'], min_orf_length=0):\n",
    "    # One array per frame\n",
    "    orfs = [[], [], []]\n",
    "\n",
    "    # Searching for ORFs in the 3 frames\n",
    "    for frame in range(3):\n",
    "        orf_in = False\n",
    "        for i in range(frame, len(seq), 3):\n",
    "            current_codon = seq[i:i+3]\n",
    "            if current_codon in start_codons and not orf_in:\n",
    "                orf_start = i\n",
    "                orf_in = True\n",
    "            if current_codon in stop_codons and orf_in:\n",
    "                orf_end = i + 3\n",
    "                orf_in = False\n",
    "                if (orf_end - orf_start) >= min_orf_length:\n",
    "                    orfs[frame].append((orf_start, orf_end))\n",
    "\n",
    "    return orfs"
   ]
  },
  {
   "cell_type": "markdown",
   "id": "f795c8d5-3faf-405f-b416-dae41554181a",
   "metadata": {},
   "source": [
    "## Parameters"
   ]
  },
  {
   "cell_type": "code",
   "execution_count": 5,
   "id": "0a44ed7c-92bc-4b7e-9cc5-5cf3021fdcb5",
   "metadata": {},
   "outputs": [],
   "source": [
    "# Length in nucleotide of shift between 5' of ribosome protected fragment and ribosome P-site\n",
    "ribosome_shift = -12\n",
    "# Colors for each of 3 frames\n",
    "frame_colors = ['#048ba8', '#f18f01', '#8fc132']\n",
    "# Extension of output image\n",
    "outext = '.png'"
   ]
  },
  {
   "cell_type": "markdown",
   "id": "7e6bbd06-87d6-47fb-9f59-1f0720e611d2",
   "metadata": {},
   "source": [
    "### Parameters: input data"
   ]
  },
  {
   "cell_type": "code",
   "execution_count": 6,
   "id": "3d6709fd-47da-4707-9ca6-1cba259b93c8",
   "metadata": {},
   "outputs": [],
   "source": [
    "# Path to FON file\n",
    "path_fon = 'danrer_cdna_all_ensembl104.fon1.json.zst'\n",
    "# Path to directory containing profiles\n",
    "path_profiles = 'genomic_profiles'\n",
    "profiles_release = 'grcz11_v9'\n",
    "# Path to tabulated file with chromosome lengths\n",
    "path_profiles_chrom_length = 'danrer_genome_all_ensembl_grcz11_chrom_length.tab'"
   ]
  },
  {
   "cell_type": "markdown",
   "id": "e05cde4e-c705-412b-bfc3-9c70b17fc57d",
   "metadata": {},
   "source": [
    "### Parameters: time-points"
   ]
  },
  {
   "cell_type": "code",
   "execution_count": 7,
   "id": "1f98ea53-6e47-4ce5-818b-e5e2f772c05f",
   "metadata": {},
   "outputs": [],
   "source": [
    "# RPF (Ribo-seq) and Input (mRNA-seq)\n",
    "rpf_name = 'rpf_12h'\n",
    "input_name = 'mrna_r0_12h'"
   ]
  },
  {
   "cell_type": "markdown",
   "id": "567e24a9-4c95-4925-9f97-8cc54680d86a",
   "metadata": {},
   "source": [
    "### Parameters: transcript"
   ]
  },
  {
   "cell_type": "code",
   "execution_count": 8,
   "id": "5c41e956-3329-4dd5-9969-4b78e786d8ff",
   "metadata": {},
   "outputs": [],
   "source": [
    "# ENSEMBL stable ID of transcript to plot (without .version)\n",
    "transcript_id = 'ENSDART00000046376'"
   ]
  },
  {
   "cell_type": "markdown",
   "id": "24ffcb3f-d303-4dad-b6af-367c6edc4238",
   "metadata": {},
   "source": [
    "## Open data"
   ]
  },
  {
   "cell_type": "code",
   "execution_count": 9,
   "id": "b245d3b9-59c0-4eaa-b075-6d11bf57fb49",
   "metadata": {},
   "outputs": [],
   "source": [
    "# Open main FON\n",
    "fon = json.load(zstd.open(path_fon))\n",
    "\n",
    "# Get transcript from main FON\n",
    "t = [f for f in fon['features'] if f['transcript_stable_id'] == transcript_id][0]\n",
    "\n",
    "if t['strand'] == '+':\n",
    "    strand_name = 'plus'\n",
    "    ribosome_shift_stranded = ribosome_shift\n",
    "elif t['strand'] == '-':\n",
    "    strand_name = 'minus'\n",
    "    ribosome_shift_stranded = ribosome_shift * -1\n",
    "\n",
    "# Open genomic profiles\n",
    "rpf_genomic_profiles = geneabacus.profileio.pfopen(os.path.join(path_profiles, f'{rpf_name}_genome_{strand_name}_profiles_{profiles_release}.bin.lz4'), path_profiles_chrom_length)\n",
    "input_genomic_profiles = geneabacus.profileio.pfopen(os.path.join(path_profiles, f'{input_name}_genome_{strand_name}_profiles_{profiles_release}.bin.lz4'), path_profiles_chrom_length)"
   ]
  },
  {
   "cell_type": "markdown",
   "id": "d86757a0-ef5a-416a-8cfb-ad134302022f",
   "metadata": {},
   "source": [
    "## Create transcript profiles"
   ]
  },
  {
   "cell_type": "code",
   "execution_count": 10,
   "id": "606cca5a-d311-438f-b9e5-248009f06686",
   "metadata": {},
   "outputs": [],
   "source": [
    "# Create transcript profiles\n",
    "prpf = np.concatenate([rpf_genomic_profiles[t['chrom']][s[0]+ribosome_shift_stranded: s[1]+ribosome_shift_stranded] for s in t['exons']])\n",
    "pinput = np.concatenate([input_genomic_profiles[t['chrom']][s[0]: s[1]] for s in t['exons']])\n",
    "\n",
    "# Flip transcript profile if transcript is antisense (to the genome)\n",
    "if t['strand'] == '-':\n",
    "    prpf = np.flip(prpf)\n",
    "    pinput = np.flip(pinput)"
   ]
  },
  {
   "cell_type": "markdown",
   "id": "ff7eefba-9114-4e8c-8788-3d1b801d9486",
   "metadata": {},
   "source": [
    "## Find ORFs"
   ]
  },
  {
   "cell_type": "code",
   "execution_count": 11,
   "id": "006c92a9-17fa-46fd-aaa0-d8a6f7cd2dae",
   "metadata": {},
   "outputs": [],
   "source": [
    "# Find all ORFs in transcript sequence\n",
    "orfs = get_orfs(t['seq'])\n",
    "\n",
    "# Create color for each frame\n",
    "pcolors = [frame_colors[i] for i in np.arange(len(t['seq'])) % 3]"
   ]
  },
  {
   "cell_type": "markdown",
   "id": "459a9a59-7bdd-4d3d-b3f8-015d71697321",
   "metadata": {},
   "source": [
    "## Plotting"
   ]
  },
  {
   "cell_type": "code",
   "execution_count": 12,
   "id": "369804b5-5c01-48d9-a1c4-9e4f9942a3e7",
   "metadata": {},
   "outputs": [
    {
     "data": {
      "text/plain": [
       "Text(0, 0.5, 'Input')"
      ]
     },
     "execution_count": 12,
     "metadata": {},
     "output_type": "execute_result"
    },
    {
     "data": {
      "image/png": "[encoded data removed]",
      "text/plain": [
       "<Figure size 576x288 with 3 Axes>"
      ]
     },
     "metadata": {
      "needs_background": "light"
     },
     "output_type": "display_data"
    }
   ],
   "source": [
    "# Plot\n",
    "fig = plt.figure(figsize=(8, 4), constrained_layout=True)\n",
    "\n",
    "# Create axes\n",
    "gs = fig.add_gridspec(ncols=1, nrows=3,  height_ratios=(2, 1, 2), hspace=0.01)\n",
    "axr = fig.add_subplot(gs[0, 0])\n",
    "axb = fig.add_subplot(gs[1, 0], sharex=axr)\n",
    "axi = fig.add_subplot(gs[2, 0], sharex=axr)\n",
    "\n",
    "# Axis look\n",
    "axr.tick_params(axis='x', labelbottom=False)\n",
    "axb.xaxis.set_visible(False)\n",
    "axb.spines['top'].set_visible(False)\n",
    "axb.spines['bottom'].set_visible(False)\n",
    "axb.spines['left'].set_visible(False)\n",
    "axb.spines['right'].set_visible(False)\n",
    "axb.tick_params(axis='both', which='both', length=0)\n",
    "\n",
    "# RPF\n",
    "axr.vlines(np.arange(len(prpf)), ymin=0, ymax=prpf, colors=pcolors, linewidth=0.6)\n",
    "# Input\n",
    "axi.vlines(np.arange(len(pinput)), ymin=0, ymax=pinput, colors=pcolors, linewidth=0.6)\n",
    "axi.invert_yaxis()\n",
    "\n",
    "# ORF box\n",
    "axb.set_yticks([(0.85/2.)+i for i in range(3)])\n",
    "axb.set_yticklabels(['+1', '+2', '+3'])\n",
    "for i in range(3):\n",
    "    axb.axhline((0.85/2.)+i, color='#adadad', linewidth=0.6, zorder=1)\n",
    "\n",
    "for iorf, orf in enumerate(orfs):\n",
    "    axb.broken_barh([(o[0], o[1]-o[0]) for o in orf], (iorf, 0.85), facecolors=frame_colors[iorf], zorder=2)\n",
    "\n",
    "# Labels\n",
    "axr.set_title(transcript_id)\n",
    "axr.set_ylabel('RPF')\n",
    "axi.set_ylabel('Input')"
   ]
  },
  {
   "cell_type": "markdown",
   "id": "167e04f5-cfa1-4f04-a199-0f497000bf00",
   "metadata": {},
   "source": [
    "**Figure legend**\n",
    "\n",
    "* Open reading frames (ORFs) are represented by the colored boxed in the middle frame in the 3 frames (marked +1, +2 and +3)\n",
    "* Positions on the transcript in frame with ORFs in the +1, +2 or +3 frame are colored using the same color as the ORF.\n",
    "* The upper pannel shows ribosome profected fragment (RPF) and the lower mRNA-seq counts at the same time-point.\n",
    "\n",
    "In this example, the main coding sequence (CDS) is in the +1 frame in blue and is highly translated as shown by the same color\n",
    "blue RPF reads in the upper panel. By contrast, the mRNA-seq (Input) has no frame and shows the level of expression of the transcript."
   ]
  },
  {
   "cell_type": "code",
   "execution_count": 13,
   "id": "86d164f6-310d-48ed-9a3d-1093b634f6f4",
   "metadata": {},
   "outputs": [],
   "source": [
    "# Save plot\n",
    "if mpl.is_interactive() is False:\n",
    "    fig.savefig(f'{transcript_id}{outext}')"
   ]
  }
 ],
 "metadata": {
  "kernelspec": {
   "display_name": "Python 3 (ipykernel)",
   "language": "python",
   "name": "python3"
  },
  "language_info": {
   "codemirror_mode": {
    "name": "ipython",
    "version": 3
   },
   "file_extension": ".py",
   "mimetype": "text/x-python",
   "name": "python",
   "nbconvert_exporter": "python",
   "pygments_lexer": "ipython3",
   "version": "3.9.7"
  }
 },
 "nbformat": 4,
 "nbformat_minor": 5
}
